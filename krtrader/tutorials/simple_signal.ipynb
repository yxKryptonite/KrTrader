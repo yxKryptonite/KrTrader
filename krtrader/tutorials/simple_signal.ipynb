{
 "cells": [
  {
   "cell_type": "markdown",
   "metadata": {},
   "source": [
    "# 一个非常简单的信号策略"
   ]
  },
  {
   "cell_type": "code",
   "execution_count": null,
   "metadata": {},
   "outputs": [],
   "source": [
    "import sys\n",
    "import yaml\n",
    "sys.path.append(\"..\")"
   ]
  },
  {
   "cell_type": "code",
   "execution_count": null,
   "metadata": {},
   "outputs": [],
   "source": [
    "from strategies.sig import SignalStrategy\n",
    "from data.read_data import DataReader"
   ]
  },
  {
   "cell_type": "markdown",
   "metadata": {},
   "source": [
    "开始回测。"
   ]
  },
  {
   "cell_type": "code",
   "execution_count": null,
   "metadata": {},
   "outputs": [],
   "source": [
    "with open(\"../../config/trade0.yaml\") as f:\n",
    "    cfg = yaml.load(f, Loader=yaml.FullLoader)\n",
    "\n",
    "strategy = SignalStrategy(cfg)\n",
    "reader = DataReader(cfg)\n",
    "data = reader.get_source_data()\n",
    "trade_duration = 365 * 1\n",
    "net_worth = []\n",
    "time_series = []\n",
    "for i in range(trade_duration):\n",
    "    strategy.time = data.index[i]\n",
    "    data_slice = data.iloc[i]\n",
    "    stock_price = {}\n",
    "    for j in range(len(reader.name)):\n",
    "        stock_price[reader.name[j]] = data_slice[j]\n",
    "\n",
    "    strategy.trade(stock_price)\n",
    "\n",
    "    # You can log them in a file or database, or just print them out.\n",
    "    # strategy.log({\"time\": strategy.time, \"net\": strategy.get_net(stock_price), \"asset\": strategy.asset, \"stock\": strategy.stock},\n",
    "    #               mode=\"net\")\n",
    "    print(f\"{strategy.time} net worth: {strategy.get_net(stock_price)} asset: {strategy.asset} stock: {strategy.stock}\")\n",
    "    \n",
    "    net_worth.append(strategy.get_net(stock_price))\n",
    "    time_series.append(strategy.time)"
   ]
  },
  {
   "cell_type": "markdown",
   "metadata": {},
   "source": [
    "下面进行绘图。"
   ]
  },
  {
   "cell_type": "code",
   "execution_count": null,
   "metadata": {},
   "outputs": [],
   "source": [
    "strategy.plot(time_series, net_worth)"
   ]
  }
 ],
 "metadata": {
  "kernelspec": {
   "display_name": "Python 3.9.13 64-bit",
   "language": "python",
   "name": "python3"
  },
  "language_info": {
   "codemirror_mode": {
    "name": "ipython",
    "version": 3
   },
   "file_extension": ".py",
   "mimetype": "text/x-python",
   "name": "python",
   "nbconvert_exporter": "python",
   "pygments_lexer": "ipython3",
   "version": "3.9.13"
  },
  "orig_nbformat": 4,
  "vscode": {
   "interpreter": {
    "hash": "b0fa6594d8f4cbf19f97940f81e996739fb7646882a419484c72d19e05852a7e"
   }
  }
 },
 "nbformat": 4,
 "nbformat_minor": 2
}
