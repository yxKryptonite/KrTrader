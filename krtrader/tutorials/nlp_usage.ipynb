{
 "cells": [
  {
   "cell_type": "markdown",
   "metadata": {},
   "source": [
    "# 自然语言处理模块\n",
    "\n",
    "本部分演示了如何使用自然语言处理模型 [Bert](https://arxiv.org/abs/1810.04805) 来进行文本编码。\n",
    "\n",
    "编码之后，我们可以使用 `krtrader/models/mlp.py` 中定义的神经网络来进行前向传播。"
   ]
  },
  {
   "cell_type": "code",
   "execution_count": null,
   "metadata": {},
   "outputs": [],
   "source": [
    "import sys\n",
    "sys.path.append(\"..\")"
   ]
  },
  {
   "cell_type": "code",
   "execution_count": null,
   "metadata": {},
   "outputs": [],
   "source": [
    "from models.bert import BertModel\n",
    "from models.mlp import MLP"
   ]
  },
  {
   "cell_type": "markdown",
   "metadata": {},
   "source": [
    "模型定义与编码"
   ]
  },
  {
   "cell_type": "code",
   "execution_count": null,
   "metadata": {},
   "outputs": [],
   "source": [
    "bert = BertModel()\n",
    "mlp = MLP()\n",
    "\n",
    "sentence1 = \"Hello, my dog is cute\"\n",
    "sentence2 = \"Hello, my cat is cute\"\n",
    "sentence3 = \"Hello, my dog is not cute\"\n",
    "print(f\"sentence1: {sentence1}\")\n",
    "print(f\"sentence2: {sentence2}\")\n",
    "print(f\"sentence3: {sentence3}\")\n",
    "print(f\"Similarity of sentence1 and sentence2: {bert.encode(sentence1).dot(bert.encode(sentence2).T)}\")\n",
    "print(f\"Similarity of sentence1 and sentence3: {bert.encode(sentence1).dot(bert.encode(sentence3).T)}\")"
   ]
  },
  {
   "cell_type": "markdown",
   "metadata": {},
   "source": [
    "用神经网络对编码后的文本进行前向传播，可以根据个人需要与现有数据集进行训练。"
   ]
  },
  {
   "cell_type": "code",
   "execution_count": null,
   "metadata": {},
   "outputs": [],
   "source": [
    "print(f\"Dimension of the Bert embeddings: {bert.encode(sentence1).shape}\")\n",
    "print(\"-----Affine transformation-----\")\n",
    "print(f\"Dimension of the projected Bert embeddings: {mlp(bert.encode(sentence1)).shape}\")"
   ]
  }
 ],
 "metadata": {
  "kernelspec": {
   "display_name": "Python 3.9.13 64-bit",
   "language": "python",
   "name": "python3"
  },
  "language_info": {
   "name": "python",
   "version": "3.9.13"
  },
  "orig_nbformat": 4,
  "vscode": {
   "interpreter": {
    "hash": "b0fa6594d8f4cbf19f97940f81e996739fb7646882a419484c72d19e05852a7e"
   }
  }
 },
 "nbformat": 4,
 "nbformat_minor": 2
}
