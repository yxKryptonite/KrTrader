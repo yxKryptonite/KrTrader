{
 "cells": [
  {
   "cell_type": "markdown",
   "metadata": {},
   "source": [
    "# 长短期记忆网络策略\n",
    "\n",
    "长短期记忆网络（[LSTM](https://en.wikipedia.org/wiki/Long_short-term_memory)）是一种特殊的循环神经网络，可以用于处理时间序列数据。在本教程中，我们将使用 LSTM 网络来预测股票价格，并使用预测结果来构建一个交易策略。"
   ]
  },
  {
   "cell_type": "code",
   "execution_count": null,
   "metadata": {},
   "outputs": [],
   "source": [
    "import sys\n",
    "import yaml\n",
    "import os\n",
    "sys.path.append(\"..\")"
   ]
  },
  {
   "cell_type": "code",
   "execution_count": null,
   "metadata": {},
   "outputs": [],
   "source": [
    "# import\n",
    "from models.lstm import LSTMModel\n",
    "from strategies.lstm import LSTMStrategy\n",
    "from data.read_data import DataReader"
   ]
  },
  {
   "cell_type": "code",
   "execution_count": null,
   "metadata": {},
   "outputs": [],
   "source": [
    "# initialize\n",
    "with open(\"../../config/stock_inference.yaml\") as f:\n",
    "    cfg = yaml.load(f, Loader=yaml.FullLoader)"
   ]
  },
  {
   "cell_type": "markdown",
   "metadata": {},
   "source": [
    "下面开始训练模型。"
   ]
  },
  {
   "cell_type": "code",
   "execution_count": null,
   "metadata": {},
   "outputs": [],
   "source": [
    "from train import Trainer\n",
    "with open(\"../../config/train.yaml\") as f:\n",
    "    train_cfg = yaml.load(f, Loader=yaml.FullLoader)\n",
    "\n",
    "trainer = Trainer(cfg)\n",
    "trainer.train()"
   ]
  },
  {
   "cell_type": "markdown",
   "metadata": {},
   "source": [
    "下面我们进行股票价格预测，由于我这里定义的模型较为简单，所以发生了一定的过拟合现象。用户可以定义一系列超参数，使模型更加精准（但同时也需要更长时间训练）。"
   ]
  },
  {
   "cell_type": "code",
   "execution_count": null,
   "metadata": {},
   "outputs": [],
   "source": [
    "# inference\n",
    "from backtest import BackTest\n",
    "bt = BackTest(cfg)\n",
    "\n",
    "%matplotlib inline\n",
    "bt.inference()\n",
    "bt.plot(mode=\"inference\")"
   ]
  },
  {
   "cell_type": "markdown",
   "metadata": {},
   "source": [
    "最后我们根据预测的股价进行回测交易。"
   ]
  },
  {
   "cell_type": "code",
   "execution_count": null,
   "metadata": {},
   "outputs": [],
   "source": [
    "strategy = LSTMStrategy(cfg)\n",
    "reader = DataReader(cfg)\n",
    "data = reader.get_source_data()\n",
    "trade_duration = 365 * 1\n",
    "net_worth = []\n",
    "time_series = []\n",
    "for i in range(trade_duration):\n",
    "    strategy.time = data.index[i]\n",
    "    data_slice = data.iloc[i]\n",
    "    stock_price = {}\n",
    "    for j in range(len(reader.name)):\n",
    "        stock_price[reader.name[j]] = data_slice[j]\n",
    "\n",
    "    strategy.trade(stock_price)\n",
    "    print(f\"{strategy.time} net worth: {strategy.get_net(stock_price)} asset: {strategy.asset} stock: {strategy.stock}\")\n",
    "    net_worth.append(strategy.get_net(stock_price))\n",
    "    time_series.append(strategy.time)"
   ]
  }
 ],
 "metadata": {
  "kernelspec": {
   "display_name": "Python 3.9.13 64-bit",
   "language": "python",
   "name": "python3"
  },
  "language_info": {
   "codemirror_mode": {
    "name": "ipython",
    "version": 3
   },
   "file_extension": ".py",
   "mimetype": "text/x-python",
   "name": "python",
   "nbconvert_exporter": "python",
   "pygments_lexer": "ipython3",
   "version": "3.9.13"
  },
  "orig_nbformat": 4,
  "vscode": {
   "interpreter": {
    "hash": "b0fa6594d8f4cbf19f97940f81e996739fb7646882a419484c72d19e05852a7e"
   }
  }
 },
 "nbformat": 4,
 "nbformat_minor": 2
}
