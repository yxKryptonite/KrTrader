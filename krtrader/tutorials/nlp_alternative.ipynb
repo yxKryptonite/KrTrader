{
 "cells": [
  {
   "cell_type": "markdown",
   "metadata": {},
   "source": [
    "# 自然语言处理 & 另类数据模块\n",
    "\n",
    "本部分演示了如何使用自然语言处理模型 [BERT](https://arxiv.org/abs/1810.04805) 来进行文本编码。\n",
    "\n",
    "编码之后，我们可以使用 `krtrader/models/mlp.py` 中定义的神经网络来进行前向传播。"
   ]
  },
  {
   "cell_type": "code",
   "execution_count": null,
   "metadata": {},
   "outputs": [],
   "source": [
    "import sys\n",
    "sys.path.append(\"..\")"
   ]
  },
  {
   "cell_type": "markdown",
   "metadata": {},
   "source": [
    "## 注意\n",
    "\n",
    "- 由于 BERT 模型较大，所以下面导入 `BertModel` 的代码可能需要较长时间下载至本地。\n",
    "- 关于 `MLP` 模型的超参数，用户可以自行修改网络层数、向量维度、激活函数等，定义中的版本是一个简单的 demo ，使用了三层网络和 `ReLU()` 激活函数。"
   ]
  },
  {
   "cell_type": "code",
   "execution_count": null,
   "metadata": {},
   "outputs": [],
   "source": [
    "from models.bert import BertModel\n",
    "from models.mlp import MLP"
   ]
  },
  {
   "cell_type": "markdown",
   "metadata": {},
   "source": [
    "## 模型定义与编码\n",
    "\n",
    "可以看到，语义相似的语句经过编码之后，其向量的余弦相似度会更高，表示它们更加相似。"
   ]
  },
  {
   "cell_type": "code",
   "execution_count": null,
   "metadata": {},
   "outputs": [],
   "source": [
    "bert = BertModel()\n",
    "mlp = MLP()\n",
    "\n",
    "sentence1 = \"Hello, my dog is cute\"\n",
    "sentence2 = \"Hello, my cat is cute\"\n",
    "sentence3 = \"Hello, my dog is not cute\"\n",
    "print(f\"sentence1: {sentence1}\")\n",
    "print(f\"sentence2: {sentence2}\")\n",
    "print(f\"sentence3: {sentence3}\")\n",
    "print(f\"Similarity of sentence1 and sentence2: {bert.encode(sentence1).dot(bert.encode(sentence2).T)}\")\n",
    "print(f\"Similarity of sentence1 and sentence3: {bert.encode(sentence1).dot(bert.encode(sentence3).T)}\")"
   ]
  },
  {
   "cell_type": "markdown",
   "metadata": {},
   "source": [
    "用神经网络对编码后的文本进行前向传播，可以根据个人需要与现有数据集进行训练。"
   ]
  },
  {
   "cell_type": "code",
   "execution_count": null,
   "metadata": {},
   "outputs": [],
   "source": [
    "print(f\"Dimension of the Bert embeddings: {bert.encode(sentence1).shape}\")\n",
    "print(\"-----Affine transformation-----\")\n",
    "print(f\"Dimension of the projected Bert embeddings: {mlp(bert.encode(sentence1)).shape}\")"
   ]
  },
  {
   "cell_type": "markdown",
   "metadata": {},
   "source": [
    "## 另类数据爬取\n",
    "\n",
    "注意：以下脚本需要在 Chrome 内核中运行。\n",
    "\n",
    "下面我们从[雅虎财经新闻](https://finance.yahoo.com/news/)网页中爬取新闻标题。\n",
    "\n",
    "您可以将爬取的数据（如下方代码中的 `data` 变量）以 `csv`，`txt` 或 `json` 格式自行保存在 `krtrader/strategies/cache/` 目录下。"
   ]
  },
  {
   "cell_type": "code",
   "execution_count": null,
   "metadata": {},
   "outputs": [],
   "source": [
    "from data.crawl import get_data, get_driver\n",
    "from selenium.webdriver.common.by import By\n",
    "\n",
    "url = \"https://finance.yahoo.com/news/\" # yahoo financial news, VPN needed\n",
    "driver = get_driver(url)\n",
    "data = get_data(driver, \"TAG_NAME\", \"h3\") # news titles\n",
    "# print(data[0].text)\n",
    "with open(\"../strategies/cache/news0.txt\", \"w\") as f:\n",
    "    for i in data:\n",
    "        f.write(i.text)\n",
    "        f.write(\"\\n\")\n",
    "\n",
    "driver.close()"
   ]
  }
 ],
 "metadata": {
  "kernelspec": {
   "display_name": "Python 3.9.13 64-bit",
   "language": "python",
   "name": "python3"
  },
  "language_info": {
   "codemirror_mode": {
    "name": "ipython",
    "version": 3
   },
   "file_extension": ".py",
   "mimetype": "text/x-python",
   "name": "python",
   "nbconvert_exporter": "python",
   "pygments_lexer": "ipython3",
   "version": "3.9.13"
  },
  "orig_nbformat": 4,
  "vscode": {
   "interpreter": {
    "hash": "b0fa6594d8f4cbf19f97940f81e996739fb7646882a419484c72d19e05852a7e"
   }
  }
 },
 "nbformat": 4,
 "nbformat_minor": 2
}
